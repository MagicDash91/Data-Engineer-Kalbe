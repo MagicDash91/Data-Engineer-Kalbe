{
 "cells": [
  {
   "cell_type": "code",
   "execution_count": 1,
   "id": "c65d235f",
   "metadata": {},
   "outputs": [
    {
     "name": "stdout",
     "output_type": "stream",
     "text": [
      "Requirement already satisfied: psycopg2-binary in d:\\anaconda3\\lib\\site-packages (2.9.6)\n",
      "Requirement already satisfied: pandas in d:\\anaconda3\\lib\\site-packages (1.4.4)\n",
      "Requirement already satisfied: python-dateutil>=2.8.1 in d:\\anaconda3\\lib\\site-packages (from pandas) (2.8.2)\n",
      "Requirement already satisfied: pytz>=2020.1 in d:\\anaconda3\\lib\\site-packages (from pandas) (2022.1)\n",
      "Requirement already satisfied: numpy>=1.18.5 in d:\\anaconda3\\lib\\site-packages (from pandas) (1.21.6)\n",
      "Requirement already satisfied: six>=1.5 in d:\\anaconda3\\lib\\site-packages (from python-dateutil>=2.8.1->pandas) (1.16.0)\n",
      "Note: you may need to restart the kernel to use updated packages.\n"
     ]
    }
   ],
   "source": [
    "pip install psycopg2-binary pandas"
   ]
  },
  {
   "cell_type": "code",
   "execution_count": 2,
   "id": "5fe3abfc",
   "metadata": {},
   "outputs": [],
   "source": [
    "import psycopg2\n",
    "import pandas as pd"
   ]
  },
  {
   "cell_type": "code",
   "execution_count": 3,
   "id": "85c9cb36",
   "metadata": {},
   "outputs": [
    {
     "name": "stdout",
     "output_type": "stream",
     "text": [
      "Connected to the database successfully!\n"
     ]
    }
   ],
   "source": [
    "try:\n",
    "    connection = psycopg2.connect(\n",
    "        dbname=\"KALBE\",\n",
    "        user=\"postgres\",\n",
    "        password=\"********\",\n",
    "        host=\"localhost\",\n",
    "        port=\"5432\"\n",
    "    )\n",
    "    print(\"Connected to the database successfully!\")\n",
    "\n",
    "except psycopg2.Error as e:\n",
    "    print(f\"Error: Unable to connect - {e}\")\n"
   ]
  },
  {
   "cell_type": "code",
   "execution_count": 4,
   "id": "50bf0153",
   "metadata": {},
   "outputs": [
    {
     "name": "stderr",
     "output_type": "stream",
     "text": [
      "D:\\anaconda3\\lib\\site-packages\\pandas\\io\\sql.py:762: UserWarning: pandas only support SQLAlchemy connectable(engine/connection) ordatabase string URI or sqlite3 DBAPI2 connectionother DBAPI2 objects are not tested, please consider using SQLAlchemy\n",
      "  warnings.warn(\n"
     ]
    },
    {
     "data": {
      "text/html": [
       "<div>\n",
       "<style scoped>\n",
       "    .dataframe tbody tr th:only-of-type {\n",
       "        vertical-align: middle;\n",
       "    }\n",
       "\n",
       "    .dataframe tbody tr th {\n",
       "        vertical-align: top;\n",
       "    }\n",
       "\n",
       "    .dataframe thead th {\n",
       "        text-align: right;\n",
       "    }\n",
       "</style>\n",
       "<table border=\"1\" class=\"dataframe\">\n",
       "  <thead>\n",
       "    <tr style=\"text-align: right;\">\n",
       "      <th></th>\n",
       "      <th>item_code</th>\n",
       "      <th>item_name</th>\n",
       "      <th>item_price</th>\n",
       "      <th>item_total</th>\n",
       "    </tr>\n",
       "  </thead>\n",
       "  <tbody>\n",
       "    <tr>\n",
       "      <th>0</th>\n",
       "      <td>2341</td>\n",
       "      <td>Promag Tablet</td>\n",
       "      <td>3000</td>\n",
       "      <td>100</td>\n",
       "    </tr>\n",
       "    <tr>\n",
       "      <th>1</th>\n",
       "      <td>2344</td>\n",
       "      <td>Blackmores Vit C 500Mg</td>\n",
       "      <td>95000</td>\n",
       "      <td>45</td>\n",
       "    </tr>\n",
       "    <tr>\n",
       "      <th>2</th>\n",
       "      <td>2343</td>\n",
       "      <td>Obat Decolgen</td>\n",
       "      <td>15000</td>\n",
       "      <td>50</td>\n",
       "    </tr>\n",
       "    <tr>\n",
       "      <th>3</th>\n",
       "      <td>2345</td>\n",
       "      <td>Entrasol Gold 370G</td>\n",
       "      <td>90000</td>\n",
       "      <td>120</td>\n",
       "    </tr>\n",
       "    <tr>\n",
       "      <th>4</th>\n",
       "      <td>2343</td>\n",
       "      <td>Obat Decolgen</td>\n",
       "      <td>15000</td>\n",
       "      <td>50</td>\n",
       "    </tr>\n",
       "  </tbody>\n",
       "</table>\n",
       "</div>"
      ],
      "text/plain": [
       "  item_code               item_name  item_price  item_total\n",
       "0      2341           Promag Tablet        3000         100\n",
       "1      2344  Blackmores Vit C 500Mg       95000          45\n",
       "2      2343           Obat Decolgen       15000          50\n",
       "3      2345      Entrasol Gold 370G       90000         120\n",
       "4      2343           Obat Decolgen       15000          50"
      ]
     },
     "execution_count": 4,
     "metadata": {},
     "output_type": "execute_result"
    }
   ],
   "source": [
    "query = \"SELECT * FROM public.inventory;\"\n",
    "df = pd.read_sql_query(query, connection)\n",
    "df"
   ]
  },
  {
   "cell_type": "code",
   "execution_count": 5,
   "id": "c66c3ae8",
   "metadata": {},
   "outputs": [
    {
     "name": "stderr",
     "output_type": "stream",
     "text": [
      "D:\\anaconda3\\lib\\site-packages\\pandas\\io\\sql.py:762: UserWarning: pandas only support SQLAlchemy connectable(engine/connection) ordatabase string URI or sqlite3 DBAPI2 connectionother DBAPI2 objects are not tested, please consider using SQLAlchemy\n",
      "  warnings.warn(\n"
     ]
    },
    {
     "data": {
      "text/html": [
       "<div>\n",
       "<style scoped>\n",
       "    .dataframe tbody tr th:only-of-type {\n",
       "        vertical-align: middle;\n",
       "    }\n",
       "\n",
       "    .dataframe tbody tr th {\n",
       "        vertical-align: top;\n",
       "    }\n",
       "\n",
       "    .dataframe thead th {\n",
       "        text-align: right;\n",
       "    }\n",
       "</style>\n",
       "<table border=\"1\" class=\"dataframe\">\n",
       "  <thead>\n",
       "    <tr style=\"text-align: right;\">\n",
       "      <th></th>\n",
       "      <th>order_no</th>\n",
       "      <th>purchase_amount</th>\n",
       "      <th>order_date</th>\n",
       "      <th>customer_id</th>\n",
       "      <th>salesman_id</th>\n",
       "    </tr>\n",
       "  </thead>\n",
       "  <tbody>\n",
       "    <tr>\n",
       "      <th>0</th>\n",
       "      <td>10001</td>\n",
       "      <td>150</td>\n",
       "      <td>2022-10-05</td>\n",
       "      <td>2005</td>\n",
       "      <td>3002</td>\n",
       "    </tr>\n",
       "    <tr>\n",
       "      <th>1</th>\n",
       "      <td>10009</td>\n",
       "      <td>279</td>\n",
       "      <td>2022-09-10</td>\n",
       "      <td>2001</td>\n",
       "      <td>3005</td>\n",
       "    </tr>\n",
       "    <tr>\n",
       "      <th>2</th>\n",
       "      <td>10002</td>\n",
       "      <td>65</td>\n",
       "      <td>2022-10-05</td>\n",
       "      <td>2002</td>\n",
       "      <td>3001</td>\n",
       "    </tr>\n",
       "    <tr>\n",
       "      <th>3</th>\n",
       "      <td>10004</td>\n",
       "      <td>110</td>\n",
       "      <td>2022-08-17</td>\n",
       "      <td>2009</td>\n",
       "      <td>3003</td>\n",
       "    </tr>\n",
       "    <tr>\n",
       "      <th>4</th>\n",
       "      <td>10007</td>\n",
       "      <td>948</td>\n",
       "      <td>2022-09-10</td>\n",
       "      <td>2005</td>\n",
       "      <td>3002</td>\n",
       "    </tr>\n",
       "    <tr>\n",
       "      <th>5</th>\n",
       "      <td>10005</td>\n",
       "      <td>2400</td>\n",
       "      <td>2022-07-27</td>\n",
       "      <td>2007</td>\n",
       "      <td>3001</td>\n",
       "    </tr>\n",
       "  </tbody>\n",
       "</table>\n",
       "</div>"
      ],
      "text/plain": [
       "   order_no  purchase_amount  order_date  customer_id  salesman_id\n",
       "0     10001              150  2022-10-05         2005         3002\n",
       "1     10009              279  2022-09-10         2001         3005\n",
       "2     10002               65  2022-10-05         2002         3001\n",
       "3     10004              110  2022-08-17         2009         3003\n",
       "4     10007              948  2022-09-10         2005         3002\n",
       "5     10005             2400  2022-07-27         2007         3001"
      ]
     },
     "execution_count": 5,
     "metadata": {},
     "output_type": "execute_result"
    }
   ],
   "source": [
    "query = \"SELECT * FROM public.customer_orders;\"\n",
    "df = pd.read_sql_query(query, connection)\n",
    "df"
   ]
  },
  {
   "cell_type": "markdown",
   "id": "17838365",
   "metadata": {},
   "source": [
    "# Show the Item_name with the highest number in Item_total:"
   ]
  },
  {
   "cell_type": "code",
   "execution_count": 6,
   "id": "26cf80ef",
   "metadata": {},
   "outputs": [
    {
     "name": "stdout",
     "output_type": "stream",
     "text": [
      "Item name with the highest number in Item_total:\n",
      "            item_name\n",
      "0  Entrasol Gold 370G\n"
     ]
    },
    {
     "name": "stderr",
     "output_type": "stream",
     "text": [
      "D:\\anaconda3\\lib\\site-packages\\pandas\\io\\sql.py:762: UserWarning: pandas only support SQLAlchemy connectable(engine/connection) ordatabase string URI or sqlite3 DBAPI2 connectionother DBAPI2 objects are not tested, please consider using SQLAlchemy\n",
      "  warnings.warn(\n"
     ]
    }
   ],
   "source": [
    "query_highest_item_total = \"SELECT item_name FROM public.inventory ORDER BY item_total DESC LIMIT 1;\"\n",
    "highest_item = pd.read_sql_query(query_highest_item_total, connection)\n",
    "print(\"Item name with the highest number in Item_total:\")\n",
    "print(highest_item)"
   ]
  },
  {
   "cell_type": "markdown",
   "id": "bc490b22",
   "metadata": {},
   "source": [
    "# Update the Item_price of the output of the previous question:"
   ]
  },
  {
   "cell_type": "code",
   "execution_count": 7,
   "id": "b96cf399",
   "metadata": {},
   "outputs": [
    {
     "name": "stdout",
     "output_type": "stream",
     "text": [
      "Item_price updated successfully.\n"
     ]
    }
   ],
   "source": [
    "new_item_price = 100000\n",
    "query_update_item_price = f\"UPDATE public.inventory SET item_price = {new_item_price} WHERE item_name = '{highest_item['item_name'][0]}';\"\n",
    "with connection.cursor() as cursor:\n",
    "    cursor.execute(query_update_item_price)\n",
    "connection.commit()\n",
    "print(\"Item_price updated successfully.\")\n"
   ]
  },
  {
   "cell_type": "code",
   "execution_count": 8,
   "id": "ff2562d8",
   "metadata": {},
   "outputs": [
    {
     "name": "stderr",
     "output_type": "stream",
     "text": [
      "D:\\anaconda3\\lib\\site-packages\\pandas\\io\\sql.py:762: UserWarning: pandas only support SQLAlchemy connectable(engine/connection) ordatabase string URI or sqlite3 DBAPI2 connectionother DBAPI2 objects are not tested, please consider using SQLAlchemy\n",
      "  warnings.warn(\n"
     ]
    },
    {
     "data": {
      "text/html": [
       "<div>\n",
       "<style scoped>\n",
       "    .dataframe tbody tr th:only-of-type {\n",
       "        vertical-align: middle;\n",
       "    }\n",
       "\n",
       "    .dataframe tbody tr th {\n",
       "        vertical-align: top;\n",
       "    }\n",
       "\n",
       "    .dataframe thead th {\n",
       "        text-align: right;\n",
       "    }\n",
       "</style>\n",
       "<table border=\"1\" class=\"dataframe\">\n",
       "  <thead>\n",
       "    <tr style=\"text-align: right;\">\n",
       "      <th></th>\n",
       "      <th>item_code</th>\n",
       "      <th>item_name</th>\n",
       "      <th>item_price</th>\n",
       "      <th>item_total</th>\n",
       "    </tr>\n",
       "  </thead>\n",
       "  <tbody>\n",
       "    <tr>\n",
       "      <th>0</th>\n",
       "      <td>2341</td>\n",
       "      <td>Promag Tablet</td>\n",
       "      <td>3000</td>\n",
       "      <td>100</td>\n",
       "    </tr>\n",
       "    <tr>\n",
       "      <th>1</th>\n",
       "      <td>2344</td>\n",
       "      <td>Blackmores Vit C 500Mg</td>\n",
       "      <td>95000</td>\n",
       "      <td>45</td>\n",
       "    </tr>\n",
       "    <tr>\n",
       "      <th>2</th>\n",
       "      <td>2343</td>\n",
       "      <td>Obat Decolgen</td>\n",
       "      <td>15000</td>\n",
       "      <td>50</td>\n",
       "    </tr>\n",
       "    <tr>\n",
       "      <th>3</th>\n",
       "      <td>2343</td>\n",
       "      <td>Obat Decolgen</td>\n",
       "      <td>15000</td>\n",
       "      <td>50</td>\n",
       "    </tr>\n",
       "    <tr>\n",
       "      <th>4</th>\n",
       "      <td>2345</td>\n",
       "      <td>Entrasol Gold 370G</td>\n",
       "      <td>100000</td>\n",
       "      <td>120</td>\n",
       "    </tr>\n",
       "  </tbody>\n",
       "</table>\n",
       "</div>"
      ],
      "text/plain": [
       "  item_code               item_name  item_price  item_total\n",
       "0      2341           Promag Tablet        3000         100\n",
       "1      2344  Blackmores Vit C 500Mg       95000          45\n",
       "2      2343           Obat Decolgen       15000          50\n",
       "3      2343           Obat Decolgen       15000          50\n",
       "4      2345      Entrasol Gold 370G      100000         120"
      ]
     },
     "execution_count": 8,
     "metadata": {},
     "output_type": "execute_result"
    }
   ],
   "source": [
    "query = \"SELECT * FROM public.inventory;\"\n",
    "df = pd.read_sql_query(query, connection)\n",
    "df"
   ]
  },
  {
   "cell_type": "markdown",
   "id": "0781f8b2",
   "metadata": {},
   "source": [
    "# Insert a new Item_name with Item_code of 2343 into the table"
   ]
  },
  {
   "cell_type": "code",
   "execution_count": 9,
   "id": "4586b150",
   "metadata": {},
   "outputs": [
    {
     "name": "stdout",
     "output_type": "stream",
     "text": [
      "New item inserted successfully.\n"
     ]
    }
   ],
   "source": [
    "new_item_values = (\"Obat Decolgen\", 2343, 50, 15000)\n",
    "query_insert_new_item = \"INSERT INTO public.inventory (item_name, item_code, item_total, item_price) VALUES (%s, %s, %s, %s);\"\n",
    "with connection.cursor() as cursor:\n",
    "    cursor.execute(query_insert_new_item, new_item_values)\n",
    "connection.commit()\n",
    "print(\"New item inserted successfully.\")\n"
   ]
  },
  {
   "cell_type": "code",
   "execution_count": 10,
   "id": "90fcbf7e",
   "metadata": {},
   "outputs": [
    {
     "name": "stderr",
     "output_type": "stream",
     "text": [
      "D:\\anaconda3\\lib\\site-packages\\pandas\\io\\sql.py:762: UserWarning: pandas only support SQLAlchemy connectable(engine/connection) ordatabase string URI or sqlite3 DBAPI2 connectionother DBAPI2 objects are not tested, please consider using SQLAlchemy\n",
      "  warnings.warn(\n"
     ]
    },
    {
     "data": {
      "text/html": [
       "<div>\n",
       "<style scoped>\n",
       "    .dataframe tbody tr th:only-of-type {\n",
       "        vertical-align: middle;\n",
       "    }\n",
       "\n",
       "    .dataframe tbody tr th {\n",
       "        vertical-align: top;\n",
       "    }\n",
       "\n",
       "    .dataframe thead th {\n",
       "        text-align: right;\n",
       "    }\n",
       "</style>\n",
       "<table border=\"1\" class=\"dataframe\">\n",
       "  <thead>\n",
       "    <tr style=\"text-align: right;\">\n",
       "      <th></th>\n",
       "      <th>item_code</th>\n",
       "      <th>item_name</th>\n",
       "      <th>item_price</th>\n",
       "      <th>item_total</th>\n",
       "    </tr>\n",
       "  </thead>\n",
       "  <tbody>\n",
       "    <tr>\n",
       "      <th>0</th>\n",
       "      <td>2341</td>\n",
       "      <td>Promag Tablet</td>\n",
       "      <td>3000</td>\n",
       "      <td>100</td>\n",
       "    </tr>\n",
       "    <tr>\n",
       "      <th>1</th>\n",
       "      <td>2344</td>\n",
       "      <td>Blackmores Vit C 500Mg</td>\n",
       "      <td>95000</td>\n",
       "      <td>45</td>\n",
       "    </tr>\n",
       "    <tr>\n",
       "      <th>2</th>\n",
       "      <td>2343</td>\n",
       "      <td>Obat Decolgen</td>\n",
       "      <td>15000</td>\n",
       "      <td>50</td>\n",
       "    </tr>\n",
       "    <tr>\n",
       "      <th>3</th>\n",
       "      <td>2343</td>\n",
       "      <td>Obat Decolgen</td>\n",
       "      <td>15000</td>\n",
       "      <td>50</td>\n",
       "    </tr>\n",
       "    <tr>\n",
       "      <th>4</th>\n",
       "      <td>2345</td>\n",
       "      <td>Entrasol Gold 370G</td>\n",
       "      <td>100000</td>\n",
       "      <td>120</td>\n",
       "    </tr>\n",
       "    <tr>\n",
       "      <th>5</th>\n",
       "      <td>2343</td>\n",
       "      <td>Obat Decolgen</td>\n",
       "      <td>15000</td>\n",
       "      <td>50</td>\n",
       "    </tr>\n",
       "  </tbody>\n",
       "</table>\n",
       "</div>"
      ],
      "text/plain": [
       "  item_code               item_name  item_price  item_total\n",
       "0      2341           Promag Tablet        3000         100\n",
       "1      2344  Blackmores Vit C 500Mg       95000          45\n",
       "2      2343           Obat Decolgen       15000          50\n",
       "3      2343           Obat Decolgen       15000          50\n",
       "4      2345      Entrasol Gold 370G      100000         120\n",
       "5      2343           Obat Decolgen       15000          50"
      ]
     },
     "execution_count": 10,
     "metadata": {},
     "output_type": "execute_result"
    }
   ],
   "source": [
    "query = \"SELECT * FROM public.inventory;\"\n",
    "df = pd.read_sql_query(query, connection)\n",
    "df"
   ]
  },
  {
   "cell_type": "markdown",
   "id": "b919b952",
   "metadata": {},
   "source": [
    "# Delete the Item_name that has the lowest number of Item_total"
   ]
  },
  {
   "cell_type": "code",
   "execution_count": 11,
   "id": "a6c476a4",
   "metadata": {},
   "outputs": [
    {
     "name": "stdout",
     "output_type": "stream",
     "text": [
      "Item with the lowest Item_total deleted successfully.\n"
     ]
    }
   ],
   "source": [
    "try:\n",
    "    query_delete_lowest_item_total = \"DELETE FROM public.inventory WHERE item_total = (SELECT MIN(item_total) FROM public.inventory);\"\n",
    "\n",
    "    with connection.cursor() as cursor:\n",
    "        cursor.execute(query_delete_lowest_item_total)\n",
    "\n",
    "    connection.commit()\n",
    "    print(\"Item with the lowest Item_total deleted successfully.\")\n",
    "\n",
    "except psycopg2.Error as e:\n",
    "    connection.rollback()  # Rollback the transaction to clear the error state\n",
    "    print(f\"Error: {e}\")"
   ]
  },
  {
   "cell_type": "code",
   "execution_count": 12,
   "id": "c45092e8",
   "metadata": {},
   "outputs": [
    {
     "name": "stderr",
     "output_type": "stream",
     "text": [
      "D:\\anaconda3\\lib\\site-packages\\pandas\\io\\sql.py:762: UserWarning: pandas only support SQLAlchemy connectable(engine/connection) ordatabase string URI or sqlite3 DBAPI2 connectionother DBAPI2 objects are not tested, please consider using SQLAlchemy\n",
      "  warnings.warn(\n"
     ]
    },
    {
     "data": {
      "text/html": [
       "<div>\n",
       "<style scoped>\n",
       "    .dataframe tbody tr th:only-of-type {\n",
       "        vertical-align: middle;\n",
       "    }\n",
       "\n",
       "    .dataframe tbody tr th {\n",
       "        vertical-align: top;\n",
       "    }\n",
       "\n",
       "    .dataframe thead th {\n",
       "        text-align: right;\n",
       "    }\n",
       "</style>\n",
       "<table border=\"1\" class=\"dataframe\">\n",
       "  <thead>\n",
       "    <tr style=\"text-align: right;\">\n",
       "      <th></th>\n",
       "      <th>item_code</th>\n",
       "      <th>item_name</th>\n",
       "      <th>item_price</th>\n",
       "      <th>item_total</th>\n",
       "    </tr>\n",
       "  </thead>\n",
       "  <tbody>\n",
       "    <tr>\n",
       "      <th>0</th>\n",
       "      <td>2341</td>\n",
       "      <td>Promag Tablet</td>\n",
       "      <td>3000</td>\n",
       "      <td>100</td>\n",
       "    </tr>\n",
       "    <tr>\n",
       "      <th>1</th>\n",
       "      <td>2343</td>\n",
       "      <td>Obat Decolgen</td>\n",
       "      <td>15000</td>\n",
       "      <td>50</td>\n",
       "    </tr>\n",
       "    <tr>\n",
       "      <th>2</th>\n",
       "      <td>2343</td>\n",
       "      <td>Obat Decolgen</td>\n",
       "      <td>15000</td>\n",
       "      <td>50</td>\n",
       "    </tr>\n",
       "    <tr>\n",
       "      <th>3</th>\n",
       "      <td>2345</td>\n",
       "      <td>Entrasol Gold 370G</td>\n",
       "      <td>100000</td>\n",
       "      <td>120</td>\n",
       "    </tr>\n",
       "    <tr>\n",
       "      <th>4</th>\n",
       "      <td>2343</td>\n",
       "      <td>Obat Decolgen</td>\n",
       "      <td>15000</td>\n",
       "      <td>50</td>\n",
       "    </tr>\n",
       "  </tbody>\n",
       "</table>\n",
       "</div>"
      ],
      "text/plain": [
       "  item_code           item_name  item_price  item_total\n",
       "0      2341       Promag Tablet        3000         100\n",
       "1      2343       Obat Decolgen       15000          50\n",
       "2      2343       Obat Decolgen       15000          50\n",
       "3      2345  Entrasol Gold 370G      100000         120\n",
       "4      2343       Obat Decolgen       15000          50"
      ]
     },
     "execution_count": 12,
     "metadata": {},
     "output_type": "execute_result"
    }
   ],
   "source": [
    "query = \"SELECT * FROM public.inventory;\"\n",
    "df = pd.read_sql_query(query, connection)\n",
    "df"
   ]
  },
  {
   "cell_type": "markdown",
   "id": "42f9b6d5",
   "metadata": {},
   "source": [
    "# Display all customer orders where\n",
    "purchase amount < 100 or exclude those\n",
    "orders which order date is on or greater than 25 Aug\n",
    "2022 and customer id is above 2001"
   ]
  },
  {
   "cell_type": "code",
   "execution_count": 13,
   "id": "f8933114",
   "metadata": {},
   "outputs": [],
   "source": [
    "query = \"\"\"\n",
    "SELECT *\n",
    "FROM customer_orders\n",
    "WHERE (purchase_amount < 100 OR (order_date < '2022-08-25' AND customer_id <= 2001));\n",
    "\"\"\""
   ]
  },
  {
   "cell_type": "code",
   "execution_count": 15,
   "id": "691e44f8",
   "metadata": {},
   "outputs": [
    {
     "name": "stderr",
     "output_type": "stream",
     "text": [
      "D:\\anaconda3\\lib\\site-packages\\pandas\\io\\sql.py:762: UserWarning: pandas only support SQLAlchemy connectable(engine/connection) ordatabase string URI or sqlite3 DBAPI2 connectionother DBAPI2 objects are not tested, please consider using SQLAlchemy\n",
      "  warnings.warn(\n"
     ]
    },
    {
     "data": {
      "text/html": [
       "<div>\n",
       "<style scoped>\n",
       "    .dataframe tbody tr th:only-of-type {\n",
       "        vertical-align: middle;\n",
       "    }\n",
       "\n",
       "    .dataframe tbody tr th {\n",
       "        vertical-align: top;\n",
       "    }\n",
       "\n",
       "    .dataframe thead th {\n",
       "        text-align: right;\n",
       "    }\n",
       "</style>\n",
       "<table border=\"1\" class=\"dataframe\">\n",
       "  <thead>\n",
       "    <tr style=\"text-align: right;\">\n",
       "      <th></th>\n",
       "      <th>order_no</th>\n",
       "      <th>purchase_amount</th>\n",
       "      <th>order_date</th>\n",
       "      <th>customer_id</th>\n",
       "      <th>salesman_id</th>\n",
       "    </tr>\n",
       "  </thead>\n",
       "  <tbody>\n",
       "    <tr>\n",
       "      <th>0</th>\n",
       "      <td>10002</td>\n",
       "      <td>65</td>\n",
       "      <td>2022-10-05</td>\n",
       "      <td>2002</td>\n",
       "      <td>3001</td>\n",
       "    </tr>\n",
       "  </tbody>\n",
       "</table>\n",
       "</div>"
      ],
      "text/plain": [
       "   order_no  purchase_amount  order_date  customer_id  salesman_id\n",
       "0     10002               65  2022-10-05         2002         3001"
      ]
     },
     "execution_count": 15,
     "metadata": {},
     "output_type": "execute_result"
    }
   ],
   "source": [
    "df1 = pd.read_sql_query(query, connection)\n",
    "df1"
   ]
  }
 ],
 "metadata": {
  "kernelspec": {
   "display_name": "Python 3 (ipykernel)",
   "language": "python",
   "name": "python3"
  },
  "language_info": {
   "codemirror_mode": {
    "name": "ipython",
    "version": 3
   },
   "file_extension": ".py",
   "mimetype": "text/x-python",
   "name": "python",
   "nbconvert_exporter": "python",
   "pygments_lexer": "ipython3",
   "version": "3.9.13"
  }
 },
 "nbformat": 4,
 "nbformat_minor": 5
}
